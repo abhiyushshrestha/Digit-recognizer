{
 "cells": [
  {
   "cell_type": "code",
   "execution_count": 1,
   "metadata": {},
   "outputs": [
    {
     "data": {
      "text/plain": [
       "'/home/abhiyush/anaconda3/envs/abhiyush4/bin/python'"
      ]
     },
     "execution_count": 1,
     "metadata": {},
     "output_type": "execute_result"
    }
   ],
   "source": [
    "import sys \n",
    "sys.executable\n",
    "\n",
    "# home/abhiyush/anaconda3/env/abhiyush4/bin/python"
   ]
  },
  {
   "cell_type": "code",
   "execution_count": 2,
   "metadata": {},
   "outputs": [],
   "source": [
    "import pandas as pd\n",
    "import numpy as np\n",
    "import cv2\n",
    "import matplotlib.pyplot as plt\n",
    "\n",
    "%matplotlib inline"
   ]
  },
  {
   "cell_type": "code",
   "execution_count": null,
   "metadata": {},
   "outputs": [],
   "source": [
    "!conda install opencv\n"
   ]
  },
  {
   "cell_type": "code",
   "execution_count": 3,
   "metadata": {},
   "outputs": [],
   "source": [
    "\n",
    "train_df = pd.read_csv(\"/media/abhiyush/New Volume/AI developers Nepal/Kaggle-MNIST/train.csv\")\n",
    "test_df = pd.read_csv(\"/media/abhiyush/New Volume/AI developers Nepal/Kaggle-MNIST/test.csv\")\n",
    "\n"
   ]
  },
  {
   "cell_type": "code",
   "execution_count": 4,
   "metadata": {},
   "outputs": [
    {
     "data": {
      "text/html": [
       "<div>\n",
       "<style scoped>\n",
       "    .dataframe tbody tr th:only-of-type {\n",
       "        vertical-align: middle;\n",
       "    }\n",
       "\n",
       "    .dataframe tbody tr th {\n",
       "        vertical-align: top;\n",
       "    }\n",
       "\n",
       "    .dataframe thead th {\n",
       "        text-align: right;\n",
       "    }\n",
       "</style>\n",
       "<table border=\"1\" class=\"dataframe\">\n",
       "  <thead>\n",
       "    <tr style=\"text-align: right;\">\n",
       "      <th></th>\n",
       "      <th>label</th>\n",
       "      <th>pixel0</th>\n",
       "      <th>pixel1</th>\n",
       "      <th>pixel2</th>\n",
       "      <th>pixel3</th>\n",
       "      <th>pixel4</th>\n",
       "      <th>pixel5</th>\n",
       "      <th>pixel6</th>\n",
       "      <th>pixel7</th>\n",
       "      <th>pixel8</th>\n",
       "      <th>...</th>\n",
       "      <th>pixel774</th>\n",
       "      <th>pixel775</th>\n",
       "      <th>pixel776</th>\n",
       "      <th>pixel777</th>\n",
       "      <th>pixel778</th>\n",
       "      <th>pixel779</th>\n",
       "      <th>pixel780</th>\n",
       "      <th>pixel781</th>\n",
       "      <th>pixel782</th>\n",
       "      <th>pixel783</th>\n",
       "    </tr>\n",
       "  </thead>\n",
       "  <tbody>\n",
       "    <tr>\n",
       "      <th>0</th>\n",
       "      <td>1</td>\n",
       "      <td>0</td>\n",
       "      <td>0</td>\n",
       "      <td>0</td>\n",
       "      <td>0</td>\n",
       "      <td>0</td>\n",
       "      <td>0</td>\n",
       "      <td>0</td>\n",
       "      <td>0</td>\n",
       "      <td>0</td>\n",
       "      <td>...</td>\n",
       "      <td>0</td>\n",
       "      <td>0</td>\n",
       "      <td>0</td>\n",
       "      <td>0</td>\n",
       "      <td>0</td>\n",
       "      <td>0</td>\n",
       "      <td>0</td>\n",
       "      <td>0</td>\n",
       "      <td>0</td>\n",
       "      <td>0</td>\n",
       "    </tr>\n",
       "    <tr>\n",
       "      <th>1</th>\n",
       "      <td>0</td>\n",
       "      <td>0</td>\n",
       "      <td>0</td>\n",
       "      <td>0</td>\n",
       "      <td>0</td>\n",
       "      <td>0</td>\n",
       "      <td>0</td>\n",
       "      <td>0</td>\n",
       "      <td>0</td>\n",
       "      <td>0</td>\n",
       "      <td>...</td>\n",
       "      <td>0</td>\n",
       "      <td>0</td>\n",
       "      <td>0</td>\n",
       "      <td>0</td>\n",
       "      <td>0</td>\n",
       "      <td>0</td>\n",
       "      <td>0</td>\n",
       "      <td>0</td>\n",
       "      <td>0</td>\n",
       "      <td>0</td>\n",
       "    </tr>\n",
       "  </tbody>\n",
       "</table>\n",
       "<p>2 rows × 785 columns</p>\n",
       "</div>"
      ],
      "text/plain": [
       "   label  pixel0  pixel1  pixel2  pixel3  pixel4  pixel5  pixel6  pixel7  \\\n",
       "0      1       0       0       0       0       0       0       0       0   \n",
       "1      0       0       0       0       0       0       0       0       0   \n",
       "\n",
       "   pixel8    ...     pixel774  pixel775  pixel776  pixel777  pixel778  \\\n",
       "0       0    ...            0         0         0         0         0   \n",
       "1       0    ...            0         0         0         0         0   \n",
       "\n",
       "   pixel779  pixel780  pixel781  pixel782  pixel783  \n",
       "0         0         0         0         0         0  \n",
       "1         0         0         0         0         0  \n",
       "\n",
       "[2 rows x 785 columns]"
      ]
     },
     "execution_count": 4,
     "metadata": {},
     "output_type": "execute_result"
    }
   ],
   "source": [
    "train_df.head(2)\n",
    "\n"
   ]
  },
  {
   "cell_type": "code",
   "execution_count": 5,
   "metadata": {},
   "outputs": [],
   "source": [
    "train_df_X = train_df.drop(\"label\", axis = 1)"
   ]
  },
  {
   "cell_type": "code",
   "execution_count": 6,
   "metadata": {},
   "outputs": [],
   "source": [
    "X_train = train_df_X.values\n",
    "X_test = test_df.values\n",
    "y_train = train_df[\"label\"].values"
   ]
  },
  {
   "cell_type": "code",
   "execution_count": 7,
   "metadata": {},
   "outputs": [
    {
     "data": {
      "text/plain": [
       "(42000, 784)"
      ]
     },
     "execution_count": 7,
     "metadata": {},
     "output_type": "execute_result"
    }
   ],
   "source": [
    "X_train.shape"
   ]
  },
  {
   "cell_type": "code",
   "execution_count": 8,
   "metadata": {},
   "outputs": [],
   "source": [
    "X_train_images = X_train.reshape(-1,28,28) #-1 le auto adjust garcha"
   ]
  },
  {
   "cell_type": "code",
   "execution_count": 9,
   "metadata": {},
   "outputs": [
    {
     "name": "stdout",
     "output_type": "stream",
     "text": [
      "Random_index: 41556\n",
      "0\n"
     ]
    },
    {
     "data": {
      "image/png": "[encoded data removed]",
      "text/plain": [
       "<matplotlib.figure.Figure at 0x7fcde3ddc240>"
      ]
     },
     "metadata": {},
     "output_type": "display_data"
    }
   ],
   "source": [
    "random_index = np.random.randint(0, len(y_train)) #0 to 42k ko bich ma random value lincha\n",
    "print(\"Random_index:\", random_index)\n",
    "plt.imshow(X_train_images[random_index], cmap = \"gray\")\n",
    "print(y_train[random_index])"
   ]
  },
  {
   "cell_type": "raw",
   "metadata": {},
   "source": []
  },
  {
   "cell_type": "code",
   "execution_count": 10,
   "metadata": {},
   "outputs": [
    {
     "ename": "SyntaxError",
     "evalue": "invalid syntax (<ipython-input-10-9260c21a4999>, line 1)",
     "output_type": "error",
     "traceback": [
      "\u001b[0;36m  File \u001b[0;32m\"<ipython-input-10-9260c21a4999>\"\u001b[0;36m, line \u001b[0;32m1\u001b[0m\n\u001b[0;31m    (abc, cmap = \"gray\")img = X_train_images[random_index]\u001b[0m\n\u001b[0m               ^\u001b[0m\n\u001b[0;31mSyntaxError\u001b[0m\u001b[0;31m:\u001b[0m invalid syntax\n"
     ]
    }
   ],
   "source": [
    "(abc, cmap = \"gray\")img = X_train_images[random_index]\n",
    "img.shape"
   ]
  },
  {
   "cell_type": "code",
   "execution_count": 11,
   "metadata": {},
   "outputs": [
    {
     "data": {
      "text/plain": [
       "<matplotlib.image.AxesImage at 0x7fcde40aaa58>"
      ]
     },
     "execution_count": 11,
     "metadata": {},
     "output_type": "execute_result"
    },
    {
     "data": {
      "image/png": "[encoded data removed]",
      "text/plain": [
       "<matplotlib.figure.Figure at 0x7fcde40654a8>"
      ]
     },
     "metadata": {},
     "output_type": "display_data"
    }
   ],
   "source": [
    "abc = np.random.randint(0,255, (28,28))\n",
    "plt.imshow(abc, cmap = \"gray\")"
   ]
  },
  {
   "cell_type": "code",
   "execution_count": 12,
   "metadata": {
    "scrolled": true
   },
   "outputs": [
    {
     "name": "stdout",
     "output_type": "stream",
     "text": [
      "[[ 22  22 245 195 205 122   7  54  73 241 176  72 169  31 189 228 236 180\n",
      "   20  25 228  94 177 146  56 234  46 246]\n",
      " [  1 186  11 143 114 170  57 158  36 150  58 238 140  70  32 160 105  13\n",
      "  171 239 195 110 155  83  49 154  18 120]\n",
      " [ 17 195 129   0 250 217  15 116 205 146 153   3  42  37  99 160 149 229\n",
      "  134 118  75 203 154 220 109 177  92 111]\n",
      " [ 14 235   0 241 247 117  30 246 177 114 207   4 229 154 197 231  50 159\n",
      "   11  31  72  25 214  78 194 194  16  23]\n",
      " [207 138 151 114 198 221 141 158  99 184 179 145  86  54 135  83 133  87\n",
      "  147 243 158   0 228 178  51  36 147   1]\n",
      " [248  77  50 197  15 234 183  34 191  26  83 102  85 197 131 236  39  68\n",
      "   53 207 181 230 165 243  73  99 231  49]\n",
      " [ 45 187  76 138   6 105 115 111  75 148 245 129 230 245  36  92  26  76\n",
      "  138  17 147 175  34  32 179  18 231 138]\n",
      " [124 253 215 238 123 151 107  82  30 138  19  76  59  73 159 231 217 205\n",
      "   18 142  58  67 239 104 152  50  14 241]\n",
      " [186  11 118 237 232  66 127 147  48  31  26  33 130  72  74  75 234 100\n",
      "  180  16  72 183 233  18  78  46 109  28]\n",
      " [108   1 103 248 203 182 221 233  41 180  59 160  99 106 182  84 127  29\n",
      "  127 224 211 134 180 205 109 128  18   6]\n",
      " [154  29  52 250 102  38 102 190 194 190 214 154 122  96 132 247 178 113\n",
      "  155 173 192 249  32 132  86 155   0   0]\n",
      " [150 113  24   9 248  46 147 111 107  23  67   4  52   9 216  41  37 253\n",
      "  158  58 186  24 250  97 233  63  56  86]\n",
      " [246 100 162 211 247 108 238 176 206 204 206   1 120 222 100 104  98  46\n",
      "   32 180 114   3 175 241  19 244 237  88]\n",
      " [249 127 249   6  94 166  84  50  87  71 161 223 147 146 136 185 179 223\n",
      "  242  49  32  57 248  85 134  63 118 157]\n",
      " [102 110 207  22 163 241 228 204  44 242  11 186  99 235 215  68  89  54\n",
      "  248  56 150  30  13 154  16 218 181 166]\n",
      " [138 130  37 190 181  82 224 175  28  25 236  32  91 107 209 226 122  95\n",
      "  181  12 145  81 179 172  11 213 155 193]\n",
      " [109  11  76   6 195  76  50 101  68  46 201   8  49  74 219 187 109  56\n",
      "  138 133  20  64  73  52  22  78 187 165]\n",
      " [ 54 136 173 173   5 173 123  93  33  35 108  34  68  88  46  16   3 203\n",
      "  179 228 230 162 140  53  35 161 144 239]\n",
      " [149  45 201  77 179  99 202 217 119 180  71 228 247 250 181 206  68 188\n",
      "   31  75 143  45 130  77 157 112 148  39]\n",
      " [144 214 216 211 146 237  53 184  18  84 130 114 143 144 231  94  63  39\n",
      "  178  75 129  83 162  42  40 196  82 107]\n",
      " [ 11 108  11  55 219 227 188 205 117 152 238   0 172 145   2  84 104  47\n",
      "  177   5  27 240  97 217 139 143   2 163]\n",
      " [217 177  51  87 176 220 223 130 151 104  92 221  25 214  95 182 189  48\n",
      "   97 222  59 127 134  66 117 156  99  28]\n",
      " [158 178 205  42 128  79 182 189 106 207  20   1  75 238  54   7 161 173\n",
      "   30 123  74 166 212 141 249  67 211 117]\n",
      " [ 56 186  50 139  92   1 124 143  69 143 106 135 238 111   1  68 116 251\n",
      "  242 110  15  52  91  98 179 228  95 182]\n",
      " [199 154 250 134  83 242 200  42 145   0  30  48  27  53 142  61  66 173\n",
      "   50 145  97  24  51   6 178 202  12 139]\n",
      " [195  58 155  60 140 156 218   7 133 154  85  40 232  86  50 245  72  21\n",
      "  117 125  94  59 226 241 115  48  24 130]\n",
      " [116  53 224  75  60 143  86   1 189 253 119  43 179 112 223  81  61 100\n",
      "   59 123 126  20 169  35 199 116 112 190]\n",
      " [234 179  74  47 171  20 224 229 155 226 239 203 147   8 136  76 127 131\n",
      "   83  38 149 150   7 239  25 109 219 154]]\n"
     ]
    }
   ],
   "source": [
    "print(abc)"
   ]
  },
  {
   "cell_type": "markdown",
   "metadata": {},
   "source": [
    "# importing the keras module"
   ]
  },
  {
   "cell_type": "code",
   "execution_count": 13,
   "metadata": {},
   "outputs": [
    {
     "name": "stderr",
     "output_type": "stream",
     "text": [
      "/home/abhiyush/anaconda3/envs/abhiyush4/lib/python3.6/site-packages/h5py/__init__.py:36: FutureWarning: Conversion of the second argument of issubdtype from `float` to `np.floating` is deprecated. In future, it will be treated as `np.float64 == np.dtype(float).type`.\n",
      "  from ._conv import register_converters as _register_converters\n",
      "Using TensorFlow backend.\n"
     ]
    }
   ],
   "source": [
    "from keras.layers import Dense\n",
    "from keras.models import Sequential\n",
    "from keras.optimizers import SGD"
   ]
  },
  {
   "cell_type": "code",
   "execution_count": 14,
   "metadata": {},
   "outputs": [],
   "source": [
    "def create_model():\n",
    "    m = Sequential()\n",
    "    m.add(Dense(16, input_dim = 784, activation = \"relu\")) #16 bhaneko no of nodes in 1st layer\n",
    "    m.add(Dense(16, activation = \"relu\")) #16 bhaneko no of nodes in 2nd layer\n",
    "    m.add(Dense(10, activation = \"softmax\")) #10 bhaneko no. of digits\n",
    "    \n",
    "    return m"
   ]
  },
  {
   "cell_type": "code",
   "execution_count": 15,
   "metadata": {},
   "outputs": [
    {
     "name": "stdout",
     "output_type": "stream",
     "text": [
      "_________________________________________________________________\n",
      "Layer (type)                 Output Shape              Param #   \n",
      "=================================================================\n",
      "dense_1 (Dense)              (None, 16)                12560     \n",
      "_________________________________________________________________\n",
      "dense_2 (Dense)              (None, 16)                272       \n",
      "_________________________________________________________________\n",
      "dense_3 (Dense)              (None, 10)                170       \n",
      "=================================================================\n",
      "Total params: 13,002\n",
      "Trainable params: 13,002\n",
      "Non-trainable params: 0\n",
      "_________________________________________________________________\n"
     ]
    }
   ],
   "source": [
    "model = create_model()\n",
    "model.summary()"
   ]
  },
  {
   "cell_type": "code",
   "execution_count": 46,
   "metadata": {},
   "outputs": [],
   "source": [
    "model.compile(loss = \"categorical_crossentropy\", optimizer=SGD(lr = 0.000000001), metrics = [\"acc\"])"
   ]
  },
  {
   "cell_type": "code",
   "execution_count": null,
   "metadata": {},
   "outputs": [],
   "source": [
    "model.compile(loss = \"mse\", optimizer=SGD(lr = 0.001), metrics = [\"acc\"]) #mae = mean absolute error"
   ]
  },
  {
   "cell_type": "code",
   "execution_count": 17,
   "metadata": {},
   "outputs": [],
   "source": [
    "from keras.utils import np_utils"
   ]
  },
  {
   "cell_type": "code",
   "execution_count": 18,
   "metadata": {},
   "outputs": [],
   "source": [
    "y_1h = np_utils.to_categorical(y_train)"
   ]
  },
  {
   "cell_type": "code",
   "execution_count": 19,
   "metadata": {},
   "outputs": [
    {
     "data": {
      "text/plain": [
       "array([1, 0, 1, ..., 7, 6, 9])"
      ]
     },
     "execution_count": 19,
     "metadata": {},
     "output_type": "execute_result"
    }
   ],
   "source": [
    "y_train"
   ]
  },
  {
   "cell_type": "code",
   "execution_count": 20,
   "metadata": {},
   "outputs": [
    {
     "data": {
      "text/plain": [
       "array([[0., 1., 0., ..., 0., 0., 0.],\n",
       "       [1., 0., 0., ..., 0., 0., 0.],\n",
       "       [0., 1., 0., ..., 0., 0., 0.],\n",
       "       ...,\n",
       "       [0., 0., 0., ..., 1., 0., 0.],\n",
       "       [0., 0., 0., ..., 0., 0., 0.],\n",
       "       [0., 0., 0., ..., 0., 0., 1.]])"
      ]
     },
     "execution_count": 20,
     "metadata": {},
     "output_type": "execute_result"
    }
   ],
   "source": [
    "y_1h"
   ]
  },
  {
   "cell_type": "code",
   "execution_count": 21,
   "metadata": {},
   "outputs": [
    {
     "data": {
      "text/plain": [
       "(42000, 10)"
      ]
     },
     "execution_count": 21,
     "metadata": {},
     "output_type": "execute_result"
    }
   ],
   "source": [
    "y_1h.shape"
   ]
  },
  {
   "cell_type": "code",
   "execution_count": 47,
   "metadata": {
    "scrolled": true
   },
   "outputs": [
    {
     "name": "stdout",
     "output_type": "stream",
     "text": [
      "Epoch 1/400\n",
      "42000/42000 [==============================] - 4s 103us/step - loss: 0.7042 - acc: 0.7716\n",
      "Epoch 2/400\n",
      "42000/42000 [==============================] - 4s 101us/step - loss: 0.7042 - acc: 0.7716\n",
      "Epoch 3/400\n",
      "42000/42000 [==============================] - 4s 101us/step - loss: 0.7042 - acc: 0.7716\n",
      "Epoch 4/400\n",
      "42000/42000 [==============================] - 4s 102us/step - loss: 0.7042 - acc: 0.7716\n",
      "Epoch 5/400\n",
      "42000/42000 [==============================] - 4s 103us/step - loss: 0.7042 - acc: 0.7716\n",
      "Epoch 6/400\n",
      "42000/42000 [==============================] - 4s 102us/step - loss: 0.7042 - acc: 0.7716\n",
      "Epoch 7/400\n",
      "42000/42000 [==============================] - 4s 103us/step - loss: 0.7042 - acc: 0.7716\n",
      "Epoch 8/400\n",
      "42000/42000 [==============================] - 4s 102us/step - loss: 0.7042 - acc: 0.7716\n",
      "Epoch 9/400\n",
      "42000/42000 [==============================] - 4s 104us/step - loss: 0.7042 - acc: 0.7716\n",
      "Epoch 10/400\n",
      "42000/42000 [==============================] - 4s 104us/step - loss: 0.7042 - acc: 0.7716\n",
      "Epoch 11/400\n",
      "42000/42000 [==============================] - 4s 103us/step - loss: 0.7042 - acc: 0.7716\n",
      "Epoch 12/400\n",
      "42000/42000 [==============================] - 4s 104us/step - loss: 0.7042 - acc: 0.7716\n",
      "Epoch 13/400\n",
      "42000/42000 [==============================] - 4s 103us/step - loss: 0.7042 - acc: 0.7716\n",
      "Epoch 14/400\n",
      "42000/42000 [==============================] - 4s 103us/step - loss: 0.7042 - acc: 0.7716\n",
      "Epoch 15/400\n",
      "42000/42000 [==============================] - 4s 104us/step - loss: 0.7042 - acc: 0.7716\n",
      "Epoch 16/400\n",
      "42000/42000 [==============================] - 4s 104us/step - loss: 0.7042 - acc: 0.7716\n",
      "Epoch 17/400\n",
      "42000/42000 [==============================] - 4s 103us/step - loss: 0.7042 - acc: 0.7716\n",
      "Epoch 18/400\n",
      "42000/42000 [==============================] - 4s 104us/step - loss: 0.7042 - acc: 0.7716\n",
      "Epoch 19/400\n",
      "42000/42000 [==============================] - 4s 105us/step - loss: 0.7042 - acc: 0.7716\n",
      "Epoch 20/400\n",
      "42000/42000 [==============================] - 4s 104us/step - loss: 0.7042 - acc: 0.7716\n",
      "Epoch 21/400\n",
      "42000/42000 [==============================] - 4s 103us/step - loss: 0.7042 - acc: 0.7716\n",
      "Epoch 22/400\n",
      "42000/42000 [==============================] - 4s 104us/step - loss: 0.7042 - acc: 0.7716\n",
      "Epoch 23/400\n",
      "42000/42000 [==============================] - 4s 104us/step - loss: 0.7042 - acc: 0.7716\n",
      "Epoch 24/400\n",
      "42000/42000 [==============================] - 4s 105us/step - loss: 0.7042 - acc: 0.7716\n",
      "Epoch 25/400\n",
      "42000/42000 [==============================] - 4s 104us/step - loss: 0.7042 - acc: 0.7716\n",
      "Epoch 26/400\n",
      "42000/42000 [==============================] - 4s 105us/step - loss: 0.7042 - acc: 0.7716\n",
      "Epoch 27/400\n",
      "42000/42000 [==============================] - 4s 104us/step - loss: 0.7042 - acc: 0.7716\n",
      "Epoch 28/400\n",
      "42000/42000 [==============================] - 4s 105us/step - loss: 0.7042 - acc: 0.7716\n",
      "Epoch 29/400\n",
      "42000/42000 [==============================] - 4s 104us/step - loss: 0.7042 - acc: 0.7716\n",
      "Epoch 30/400\n",
      "42000/42000 [==============================] - 4s 104us/step - loss: 0.7042 - acc: 0.7716\n",
      "Epoch 31/400\n",
      "42000/42000 [==============================] - 4s 103us/step - loss: 0.7042 - acc: 0.7716\n",
      "Epoch 32/400\n",
      "42000/42000 [==============================] - 4s 103us/step - loss: 0.7042 - acc: 0.7716\n",
      "Epoch 33/400\n",
      "42000/42000 [==============================] - 4s 104us/step - loss: 0.7042 - acc: 0.7716\n",
      "Epoch 34/400\n",
      "42000/42000 [==============================] - 4s 104us/step - loss: 0.7042 - acc: 0.7716\n",
      "Epoch 35/400\n",
      "42000/42000 [==============================] - 4s 104us/step - loss: 0.7042 - acc: 0.7716\n",
      "Epoch 36/400\n",
      "42000/42000 [==============================] - 4s 104us/step - loss: 0.7042 - acc: 0.7716\n",
      "Epoch 37/400\n",
      "42000/42000 [==============================] - 4s 105us/step - loss: 0.7042 - acc: 0.7716\n",
      "Epoch 38/400\n",
      "42000/42000 [==============================] - 4s 104us/step - loss: 0.7042 - acc: 0.7716\n",
      "Epoch 39/400\n",
      "42000/42000 [==============================] - 4s 104us/step - loss: 0.7042 - acc: 0.7716\n",
      "Epoch 40/400\n",
      "42000/42000 [==============================] - 4s 104us/step - loss: 0.7042 - acc: 0.7716\n",
      "Epoch 41/400\n",
      "42000/42000 [==============================] - 4s 105us/step - loss: 0.7042 - acc: 0.7716\n",
      "Epoch 42/400\n",
      "42000/42000 [==============================] - 4s 104us/step - loss: 0.7042 - acc: 0.7716\n",
      "Epoch 43/400\n",
      "42000/42000 [==============================] - 5s 116us/step - loss: 0.7042 - acc: 0.7716\n",
      "Epoch 44/400\n",
      "42000/42000 [==============================] - 4s 102us/step - loss: 0.7042 - acc: 0.7716\n",
      "Epoch 45/400\n",
      "42000/42000 [==============================] - 4s 103us/step - loss: 0.7042 - acc: 0.7716\n",
      "Epoch 46/400\n",
      "42000/42000 [==============================] - 4s 103us/step - loss: 0.7042 - acc: 0.7716\n",
      "Epoch 47/400\n",
      "42000/42000 [==============================] - 4s 105us/step - loss: 0.7042 - acc: 0.7716\n",
      "Epoch 48/400\n",
      "42000/42000 [==============================] - 4s 106us/step - loss: 0.7042 - acc: 0.7716\n",
      "Epoch 49/400\n",
      "42000/42000 [==============================] - 4s 105us/step - loss: 0.7042 - acc: 0.7716\n",
      "Epoch 50/400\n",
      "42000/42000 [==============================] - 4s 105us/step - loss: 0.7042 - acc: 0.7716\n",
      "Epoch 51/400\n",
      "42000/42000 [==============================] - 4s 104us/step - loss: 0.7042 - acc: 0.7716\n",
      "Epoch 52/400\n",
      "42000/42000 [==============================] - 4s 105us/step - loss: 0.7042 - acc: 0.7716\n",
      "Epoch 53/400\n",
      "42000/42000 [==============================] - 4s 105us/step - loss: 0.7042 - acc: 0.7716\n",
      "Epoch 54/400\n",
      "42000/42000 [==============================] - 4s 105us/step - loss: 0.7042 - acc: 0.7716\n",
      "Epoch 55/400\n",
      "42000/42000 [==============================] - 4s 107us/step - loss: 0.7042 - acc: 0.7716\n",
      "Epoch 56/400\n",
      "42000/42000 [==============================] - 5s 107us/step - loss: 0.7042 - acc: 0.7716\n",
      "Epoch 57/400\n",
      "42000/42000 [==============================] - 5s 108us/step - loss: 0.7042 - acc: 0.7716\n",
      "Epoch 58/400\n",
      "42000/42000 [==============================] - 4s 107us/step - loss: 0.7042 - acc: 0.7716\n",
      "Epoch 59/400\n",
      "42000/42000 [==============================] - 5s 107us/step - loss: 0.7042 - acc: 0.7716\n",
      "Epoch 60/400\n",
      "42000/42000 [==============================] - 5s 108us/step - loss: 0.7042 - acc: 0.7716\n",
      "Epoch 61/400\n",
      "42000/42000 [==============================] - 5s 108us/step - loss: 0.7042 - acc: 0.7716\n",
      "Epoch 62/400\n",
      "42000/42000 [==============================] - 5s 108us/step - loss: 0.7042 - acc: 0.7716\n",
      "Epoch 63/400\n",
      "42000/42000 [==============================] - 5s 108us/step - loss: 0.7042 - acc: 0.7716\n",
      "Epoch 64/400\n",
      "42000/42000 [==============================] - 5s 110us/step - loss: 0.7042 - acc: 0.7716\n",
      "Epoch 65/400\n",
      "42000/42000 [==============================] - 5s 108us/step - loss: 0.7042 - acc: 0.7716\n",
      "Epoch 66/400\n",
      "42000/42000 [==============================] - 5s 107us/step - loss: 0.7042 - acc: 0.7716\n",
      "Epoch 67/400\n",
      "42000/42000 [==============================] - 5s 107us/step - loss: 0.7042 - acc: 0.7716\n",
      "Epoch 68/400\n",
      "42000/42000 [==============================] - 5s 108us/step - loss: 0.7042 - acc: 0.7716\n",
      "Epoch 69/400\n",
      "42000/42000 [==============================] - 5s 108us/step - loss: 0.7042 - acc: 0.7716\n",
      "Epoch 70/400\n",
      "42000/42000 [==============================] - 5s 108us/step - loss: 0.7042 - acc: 0.7716\n",
      "Epoch 71/400\n",
      "42000/42000 [==============================] - 5s 108us/step - loss: 0.7042 - acc: 0.7716\n",
      "Epoch 72/400\n",
      "42000/42000 [==============================] - 5s 108us/step - loss: 0.7042 - acc: 0.7716\n",
      "Epoch 73/400\n",
      "42000/42000 [==============================] - 5s 109us/step - loss: 0.7042 - acc: 0.7716\n",
      "Epoch 74/400\n",
      "42000/42000 [==============================] - 5s 109us/step - loss: 0.7042 - acc: 0.7716\n",
      "Epoch 75/400\n",
      "42000/42000 [==============================] - 5s 108us/step - loss: 0.7042 - acc: 0.7716\n",
      "Epoch 76/400\n",
      "42000/42000 [==============================] - 5s 108us/step - loss: 0.7042 - acc: 0.7716\n",
      "Epoch 77/400\n",
      "42000/42000 [==============================] - 5s 108us/step - loss: 0.7042 - acc: 0.7716\n",
      "Epoch 78/400\n",
      "42000/42000 [==============================] - 5s 109us/step - loss: 0.7042 - acc: 0.7716\n",
      "Epoch 79/400\n",
      "42000/42000 [==============================] - 5s 108us/step - loss: 0.7042 - acc: 0.7716\n",
      "Epoch 80/400\n"
     ]
    },
    {
     "name": "stdout",
     "output_type": "stream",
     "text": [
      "42000/42000 [==============================] - 4s 96us/step - loss: 0.7042 - acc: 0.7716\n",
      "Epoch 81/400\n",
      "42000/42000 [==============================] - 4s 95us/step - loss: 0.7042 - acc: 0.7716\n",
      "Epoch 82/400\n",
      "42000/42000 [==============================] - 4s 95us/step - loss: 0.7042 - acc: 0.7716\n",
      "Epoch 83/400\n",
      "42000/42000 [==============================] - 4s 95us/step - loss: 0.7042 - acc: 0.7716\n",
      "Epoch 84/400\n",
      "42000/42000 [==============================] - 4s 95us/step - loss: 0.7042 - acc: 0.7716\n",
      "Epoch 85/400\n",
      "42000/42000 [==============================] - 4s 95us/step - loss: 0.7042 - acc: 0.7716\n",
      "Epoch 86/400\n",
      "42000/42000 [==============================] - 4s 95us/step - loss: 0.7042 - acc: 0.7716\n",
      "Epoch 87/400\n",
      "42000/42000 [==============================] - 4s 96us/step - loss: 0.7042 - acc: 0.7716\n",
      "Epoch 88/400\n",
      "42000/42000 [==============================] - 4s 95us/step - loss: 0.7042 - acc: 0.7716\n",
      "Epoch 89/400\n",
      "42000/42000 [==============================] - 4s 95us/step - loss: 0.7042 - acc: 0.7716\n",
      "Epoch 90/400\n",
      "42000/42000 [==============================] - 4s 94us/step - loss: 0.7042 - acc: 0.7716\n",
      "Epoch 91/400\n",
      "42000/42000 [==============================] - 4s 94us/step - loss: 0.7042 - acc: 0.7716\n",
      "Epoch 92/400\n",
      "42000/42000 [==============================] - 4s 96us/step - loss: 0.7042 - acc: 0.7716\n",
      "Epoch 93/400\n",
      "42000/42000 [==============================] - 4s 95us/step - loss: 0.7042 - acc: 0.7716\n",
      "Epoch 94/400\n",
      "42000/42000 [==============================] - 4s 95us/step - loss: 0.7042 - acc: 0.7716\n",
      "Epoch 95/400\n",
      "42000/42000 [==============================] - 4s 95us/step - loss: 0.7042 - acc: 0.7716\n",
      "Epoch 96/400\n",
      "42000/42000 [==============================] - 4s 95us/step - loss: 0.7042 - acc: 0.7716\n",
      "Epoch 97/400\n",
      "42000/42000 [==============================] - 4s 94us/step - loss: 0.7042 - acc: 0.7716\n",
      "Epoch 98/400\n",
      "42000/42000 [==============================] - 4s 96us/step - loss: 0.7042 - acc: 0.7716\n",
      "Epoch 99/400\n",
      "42000/42000 [==============================] - 4s 95us/step - loss: 0.7042 - acc: 0.7716\n",
      "Epoch 100/400\n",
      "42000/42000 [==============================] - 4s 96us/step - loss: 0.7042 - acc: 0.7716\n",
      "Epoch 101/400\n",
      "42000/42000 [==============================] - 4s 95us/step - loss: 0.7042 - acc: 0.7716\n",
      "Epoch 102/400\n",
      "42000/42000 [==============================] - 4s 97us/step - loss: 0.7042 - acc: 0.7716\n",
      "Epoch 103/400\n",
      "42000/42000 [==============================] - 4s 95us/step - loss: 0.7042 - acc: 0.7716\n",
      "Epoch 104/400\n",
      "42000/42000 [==============================] - 4s 95us/step - loss: 0.7042 - acc: 0.7716\n",
      "Epoch 105/400\n",
      "42000/42000 [==============================] - 4s 96us/step - loss: 0.7042 - acc: 0.7716\n",
      "Epoch 106/400\n",
      "42000/42000 [==============================] - 4s 96us/step - loss: 0.7042 - acc: 0.7716\n",
      "Epoch 107/400\n",
      "42000/42000 [==============================] - 4s 96us/step - loss: 0.7042 - acc: 0.7716\n",
      "Epoch 108/400\n",
      "42000/42000 [==============================] - 21s 489us/step - loss: 0.7042 - acc: 0.7716\n",
      "Epoch 109/400\n",
      "42000/42000 [==============================] - 27s 641us/step - loss: 0.7042 - acc: 0.7716\n",
      "Epoch 110/400\n",
      "42000/42000 [==============================] - 30s 704us/step - loss: 0.7042 - acc: 0.7716\n",
      "Epoch 111/400\n",
      "42000/42000 [==============================] - 33s 787us/step - loss: 0.7042 - acc: 0.7716\n",
      "Epoch 112/400\n",
      "42000/42000 [==============================] - 34s 820us/step - loss: 0.7042 - acc: 0.7716\n",
      "Epoch 113/400\n",
      "42000/42000 [==============================] - 30s 705us/step - loss: 0.7042 - acc: 0.7716\n",
      "Epoch 114/400\n",
      "42000/42000 [==============================] - 29s 681us/step - loss: 0.7042 - acc: 0.7716\n",
      "Epoch 115/400\n",
      "42000/42000 [==============================] - 11s 272us/step - loss: 0.7042 - acc: 0.7716\n",
      "Epoch 116/400\n",
      "42000/42000 [==============================] - 4s 106us/step - loss: 0.7042 - acc: 0.7716\n",
      "Epoch 117/400\n",
      "42000/42000 [==============================] - 4s 107us/step - loss: 0.7042 - acc: 0.7716\n",
      "Epoch 118/400\n",
      "42000/42000 [==============================] - 5s 107us/step - loss: 0.7042 - acc: 0.7716\n",
      "Epoch 119/400\n",
      "42000/42000 [==============================] - 5s 107us/step - loss: 0.7042 - acc: 0.7716\n",
      "Epoch 120/400\n",
      "42000/42000 [==============================] - 5s 108us/step - loss: 0.7042 - acc: 0.7716\n",
      "Epoch 121/400\n",
      "42000/42000 [==============================] - 5s 110us/step - loss: 0.7042 - acc: 0.7716\n",
      "Epoch 122/400\n",
      "42000/42000 [==============================] - 5s 116us/step - loss: 0.7042 - acc: 0.7716\n",
      "Epoch 123/400\n",
      "42000/42000 [==============================] - 4s 106us/step - loss: 0.7042 - acc: 0.7716\n",
      "Epoch 124/400\n",
      "42000/42000 [==============================] - 4s 106us/step - loss: 0.7042 - acc: 0.7716\n",
      "Epoch 125/400\n",
      "42000/42000 [==============================] - 4s 105us/step - loss: 0.7042 - acc: 0.7716\n",
      "Epoch 126/400\n",
      "42000/42000 [==============================] - 4s 106us/step - loss: 0.7042 - acc: 0.7716\n",
      "Epoch 127/400\n",
      "42000/42000 [==============================] - 4s 106us/step - loss: 0.7042 - acc: 0.7716\n",
      "Epoch 128/400\n",
      "42000/42000 [==============================] - 4s 106us/step - loss: 0.7042 - acc: 0.7716\n",
      "Epoch 129/400\n",
      "42000/42000 [==============================] - 4s 105us/step - loss: 0.7042 - acc: 0.7716\n",
      "Epoch 130/400\n",
      "42000/42000 [==============================] - 4s 106us/step - loss: 0.7042 - acc: 0.7716\n",
      "Epoch 131/400\n",
      "42000/42000 [==============================] - 5s 107us/step - loss: 0.7042 - acc: 0.7716\n",
      "Epoch 132/400\n",
      "42000/42000 [==============================] - 5s 107us/step - loss: 0.7042 - acc: 0.7716\n",
      "Epoch 133/400\n",
      "42000/42000 [==============================] - 5s 110us/step - loss: 0.7042 - acc: 0.7716\n",
      "Epoch 134/400\n",
      "42000/42000 [==============================] - 5s 108us/step - loss: 0.7042 - acc: 0.7716\n",
      "Epoch 135/400\n",
      "42000/42000 [==============================] - 5s 107us/step - loss: 0.7042 - acc: 0.7716\n",
      "Epoch 136/400\n",
      "42000/42000 [==============================] - 4s 107us/step - loss: 0.7042 - acc: 0.7716\n",
      "Epoch 137/400\n",
      "42000/42000 [==============================] - 5s 108us/step - loss: 0.7042 - acc: 0.7716\n",
      "Epoch 138/400\n",
      "42000/42000 [==============================] - 5s 108us/step - loss: 0.7042 - acc: 0.7716\n",
      "Epoch 139/400\n",
      "42000/42000 [==============================] - 5s 108us/step - loss: 0.7042 - acc: 0.7716\n",
      "Epoch 140/400\n",
      "42000/42000 [==============================] - 5s 108us/step - loss: 0.7042 - acc: 0.7716\n",
      "Epoch 141/400\n",
      "42000/42000 [==============================] - 5s 107us/step - loss: 0.7042 - acc: 0.7716\n",
      "Epoch 142/400\n",
      "42000/42000 [==============================] - 5s 108us/step - loss: 0.7042 - acc: 0.7716\n",
      "Epoch 143/400\n",
      "42000/42000 [==============================] - 5s 109us/step - loss: 0.7042 - acc: 0.7716\n",
      "Epoch 144/400\n",
      "42000/42000 [==============================] - 5s 107us/step - loss: 0.7042 - acc: 0.7716\n",
      "Epoch 145/400\n",
      "42000/42000 [==============================] - 5s 108us/step - loss: 0.7042 - acc: 0.7716\n",
      "Epoch 146/400\n",
      "42000/42000 [==============================] - 5s 108us/step - loss: 0.7042 - acc: 0.7716\n",
      "Epoch 147/400\n",
      "42000/42000 [==============================] - 5s 108us/step - loss: 0.7042 - acc: 0.7716\n",
      "Epoch 148/400\n",
      "42000/42000 [==============================] - 5s 110us/step - loss: 0.7042 - acc: 0.7716\n",
      "Epoch 149/400\n",
      "42000/42000 [==============================] - 5s 108us/step - loss: 0.7042 - acc: 0.7716\n",
      "Epoch 150/400\n",
      "42000/42000 [==============================] - 5s 122us/step - loss: 0.7042 - acc: 0.7716\n",
      "Epoch 151/400\n",
      "42000/42000 [==============================] - 5s 117us/step - loss: 0.7042 - acc: 0.7716\n",
      "Epoch 152/400\n",
      "42000/42000 [==============================] - 5s 114us/step - loss: 0.7042 - acc: 0.7716\n",
      "Epoch 153/400\n",
      "42000/42000 [==============================] - 4s 105us/step - loss: 0.7042 - acc: 0.7716\n",
      "Epoch 154/400\n",
      "42000/42000 [==============================] - 4s 107us/step - loss: 0.7042 - acc: 0.7716\n",
      "Epoch 155/400\n",
      "42000/42000 [==============================] - 5s 110us/step - loss: 0.7042 - acc: 0.7716\n",
      "Epoch 156/400\n",
      "42000/42000 [==============================] - 4s 103us/step - loss: 0.7042 - acc: 0.7716\n",
      "Epoch 157/400\n",
      "42000/42000 [==============================] - 4s 105us/step - loss: 0.7042 - acc: 0.7716\n",
      "Epoch 158/400\n",
      "42000/42000 [==============================] - 5s 113us/step - loss: 0.7042 - acc: 0.7716\n",
      "Epoch 159/400\n"
     ]
    },
    {
     "name": "stdout",
     "output_type": "stream",
     "text": [
      "42000/42000 [==============================] - 4s 101us/step - loss: 0.7042 - acc: 0.7716\n",
      "Epoch 160/400\n",
      "42000/42000 [==============================] - 4s 95us/step - loss: 0.7042 - acc: 0.7716\n",
      "Epoch 161/400\n",
      "42000/42000 [==============================] - 4s 92us/step - loss: 0.7042 - acc: 0.7716\n",
      "Epoch 162/400\n",
      "42000/42000 [==============================] - 4s 99us/step - loss: 0.7042 - acc: 0.7716\n",
      "Epoch 163/400\n",
      "42000/42000 [==============================] - 4s 95us/step - loss: 0.7042 - acc: 0.7716\n",
      "Epoch 164/400\n",
      "42000/42000 [==============================] - 4s 98us/step - loss: 0.7042 - acc: 0.7716\n",
      "Epoch 165/400\n",
      "42000/42000 [==============================] - 4s 98us/step - loss: 0.7042 - acc: 0.7716\n",
      "Epoch 166/400\n",
      "42000/42000 [==============================] - 4s 101us/step - loss: 0.7042 - acc: 0.7716\n",
      "Epoch 167/400\n",
      "42000/42000 [==============================] - 4s 100us/step - loss: 0.7042 - acc: 0.7716\n",
      "Epoch 168/400\n",
      "42000/42000 [==============================] - 4s 98us/step - loss: 0.7042 - acc: 0.7716\n",
      "Epoch 169/400\n",
      "42000/42000 [==============================] - 4s 99us/step - loss: 0.7042 - acc: 0.7716\n",
      "Epoch 170/400\n",
      "42000/42000 [==============================] - 4s 101us/step - loss: 0.7042 - acc: 0.7716\n",
      "Epoch 171/400\n",
      "42000/42000 [==============================] - 4s 97us/step - loss: 0.7042 - acc: 0.7716\n",
      "Epoch 172/400\n",
      "42000/42000 [==============================] - 4s 97us/step - loss: 0.7042 - acc: 0.7716\n",
      "Epoch 173/400\n",
      "42000/42000 [==============================] - 4s 98us/step - loss: 0.7042 - acc: 0.7716\n",
      "Epoch 174/400\n",
      "42000/42000 [==============================] - 4s 101us/step - loss: 0.7042 - acc: 0.7716\n",
      "Epoch 175/400\n",
      "42000/42000 [==============================] - 4s 98us/step - loss: 0.7042 - acc: 0.7716\n",
      "Epoch 176/400\n",
      "42000/42000 [==============================] - 4s 101us/step - loss: 0.7042 - acc: 0.7716\n",
      "Epoch 177/400\n",
      "42000/42000 [==============================] - 4s 92us/step - loss: 0.7042 - acc: 0.7716\n",
      "Epoch 178/400\n",
      "42000/42000 [==============================] - 4s 92us/step - loss: 0.7042 - acc: 0.7716\n",
      "Epoch 179/400\n",
      "42000/42000 [==============================] - 4s 91us/step - loss: 0.7042 - acc: 0.7716\n",
      "Epoch 180/400\n",
      "42000/42000 [==============================] - 4s 95us/step - loss: 0.7042 - acc: 0.7716\n",
      "Epoch 181/400\n",
      "42000/42000 [==============================] - 4s 99us/step - loss: 0.7042 - acc: 0.7716\n",
      "Epoch 182/400\n",
      "42000/42000 [==============================] - 4s 98us/step - loss: 0.7042 - acc: 0.7716\n",
      "Epoch 183/400\n",
      "42000/42000 [==============================] - 4s 97us/step - loss: 0.7042 - acc: 0.7716\n",
      "Epoch 184/400\n",
      "42000/42000 [==============================] - 4s 95us/step - loss: 0.7042 - acc: 0.7716\n",
      "Epoch 185/400\n",
      "42000/42000 [==============================] - 4s 93us/step - loss: 0.7042 - acc: 0.7716\n",
      "Epoch 186/400\n",
      "42000/42000 [==============================] - 4s 92us/step - loss: 0.7042 - acc: 0.7716\n",
      "Epoch 187/400\n",
      "42000/42000 [==============================] - 4s 93us/step - loss: 0.7042 - acc: 0.7716\n",
      "Epoch 188/400\n",
      "42000/42000 [==============================] - 4s 91us/step - loss: 0.7042 - acc: 0.7716\n",
      "Epoch 189/400\n",
      "42000/42000 [==============================] - 4s 96us/step - loss: 0.7042 - acc: 0.7716\n",
      "Epoch 190/400\n",
      "42000/42000 [==============================] - 4s 100us/step - loss: 0.7042 - acc: 0.7716\n",
      "Epoch 191/400\n",
      "42000/42000 [==============================] - 4s 100us/step - loss: 0.7042 - acc: 0.7716\n",
      "Epoch 192/400\n",
      "42000/42000 [==============================] - 4s 97us/step - loss: 0.7042 - acc: 0.7716\n",
      "Epoch 193/400\n",
      "42000/42000 [==============================] - 4s 99us/step - loss: 0.7042 - acc: 0.7716\n",
      "Epoch 194/400\n",
      "42000/42000 [==============================] - 4s 94us/step - loss: 0.7042 - acc: 0.7716\n",
      "Epoch 195/400\n",
      "42000/42000 [==============================] - 4s 101us/step - loss: 0.7042 - acc: 0.7716\n",
      "Epoch 196/400\n",
      "42000/42000 [==============================] - 5s 114us/step - loss: 0.7042 - acc: 0.7716\n",
      "Epoch 197/400\n",
      "42000/42000 [==============================] - 4s 105us/step - loss: 0.7042 - acc: 0.7716\n",
      "Epoch 198/400\n",
      "42000/42000 [==============================] - 4s 98us/step - loss: 0.7042 - acc: 0.7716\n",
      "Epoch 199/400\n",
      "42000/42000 [==============================] - 4s 107us/step - loss: 0.7042 - acc: 0.7716\n",
      "Epoch 200/400\n",
      "42000/42000 [==============================] - 4s 107us/step - loss: 0.7042 - acc: 0.7716\n",
      "Epoch 201/400\n",
      "42000/42000 [==============================] - 4s 99us/step - loss: 0.7042 - acc: 0.7716\n",
      "Epoch 202/400\n",
      "42000/42000 [==============================] - 5s 109us/step - loss: 0.7042 - acc: 0.7716\n",
      "Epoch 203/400\n",
      "42000/42000 [==============================] - 5s 111us/step - loss: 0.7042 - acc: 0.7716\n",
      "Epoch 204/400\n",
      "42000/42000 [==============================] - 4s 95us/step - loss: 0.7042 - acc: 0.7716\n",
      "Epoch 205/400\n",
      "42000/42000 [==============================] - 4s 96us/step - loss: 0.7042 - acc: 0.7716\n",
      "Epoch 206/400\n",
      "42000/42000 [==============================] - 4s 98us/step - loss: 0.7042 - acc: 0.7716\n",
      "Epoch 207/400\n",
      "42000/42000 [==============================] - 4s 99us/step - loss: 0.7042 - acc: 0.7716\n",
      "Epoch 208/400\n",
      "42000/42000 [==============================] - 4s 96us/step - loss: 0.7042 - acc: 0.7716\n",
      "Epoch 209/400\n",
      "42000/42000 [==============================] - 4s 96us/step - loss: 0.7042 - acc: 0.7716\n",
      "Epoch 210/400\n",
      "42000/42000 [==============================] - 4s 97us/step - loss: 0.7042 - acc: 0.7716\n",
      "Epoch 211/400\n",
      "42000/42000 [==============================] - 4s 93us/step - loss: 0.7042 - acc: 0.7716\n",
      "Epoch 212/400\n",
      "42000/42000 [==============================] - 4s 91us/step - loss: 0.7042 - acc: 0.7716\n",
      "Epoch 213/400\n",
      "42000/42000 [==============================] - 4s 94us/step - loss: 0.7042 - acc: 0.7716\n",
      "Epoch 214/400\n",
      "42000/42000 [==============================] - 4s 102us/step - loss: 0.7042 - acc: 0.7716\n",
      "Epoch 215/400\n",
      "42000/42000 [==============================] - 4s 92us/step - loss: 0.7042 - acc: 0.7716\n",
      "Epoch 216/400\n",
      "42000/42000 [==============================] - 4s 99us/step - loss: 0.7042 - acc: 0.7716\n",
      "Epoch 217/400\n",
      "42000/42000 [==============================] - 4s 98us/step - loss: 0.7042 - acc: 0.7716\n",
      "Epoch 218/400\n",
      "42000/42000 [==============================] - 4s 93us/step - loss: 0.7042 - acc: 0.7716\n",
      "Epoch 219/400\n",
      "42000/42000 [==============================] - 4s 92us/step - loss: 0.7042 - acc: 0.7716\n",
      "Epoch 220/400\n",
      "42000/42000 [==============================] - 4s 92us/step - loss: 0.7042 - acc: 0.7716\n",
      "Epoch 221/400\n",
      "42000/42000 [==============================] - 4s 92us/step - loss: 0.7042 - acc: 0.7716\n",
      "Epoch 222/400\n",
      "42000/42000 [==============================] - 4s 97us/step - loss: 0.7042 - acc: 0.7716\n",
      "Epoch 223/400\n",
      "42000/42000 [==============================] - 4s 99us/step - loss: 0.7042 - acc: 0.7716\n",
      "Epoch 224/400\n",
      "42000/42000 [==============================] - 4s 100us/step - loss: 0.7042 - acc: 0.7716\n",
      "Epoch 225/400\n",
      "42000/42000 [==============================] - 4s 102us/step - loss: 0.7042 - acc: 0.7716\n",
      "Epoch 226/400\n",
      "42000/42000 [==============================] - 4s 105us/step - loss: 0.7042 - acc: 0.7716\n",
      "Epoch 227/400\n",
      "42000/42000 [==============================] - 4s 96us/step - loss: 0.7042 - acc: 0.7716\n",
      "Epoch 228/400\n",
      "42000/42000 [==============================] - 4s 95us/step - loss: 0.7042 - acc: 0.7716\n",
      "Epoch 229/400\n",
      "42000/42000 [==============================] - 4s 95us/step - loss: 0.7042 - acc: 0.7716\n",
      "Epoch 230/400\n",
      "42000/42000 [==============================] - 4s 96us/step - loss: 0.7042 - acc: 0.7716\n",
      "Epoch 231/400\n",
      "42000/42000 [==============================] - 4s 93us/step - loss: 0.7042 - acc: 0.7716\n",
      "Epoch 232/400\n",
      "42000/42000 [==============================] - 4s 97us/step - loss: 0.7042 - acc: 0.7716\n",
      "Epoch 233/400\n",
      "42000/42000 [==============================] - 4s 99us/step - loss: 0.7042 - acc: 0.7716\n",
      "Epoch 234/400\n",
      "42000/42000 [==============================] - 4s 97us/step - loss: 0.7042 - acc: 0.7716\n",
      "Epoch 235/400\n",
      "42000/42000 [==============================] - 4s 101us/step - loss: 0.7042 - acc: 0.7716\n",
      "Epoch 236/400\n",
      "42000/42000 [==============================] - 5s 108us/step - loss: 0.7042 - acc: 0.7716\n",
      "Epoch 237/400\n",
      "42000/42000 [==============================] - 4s 98us/step - loss: 0.7042 - acc: 0.7716\n",
      "Epoch 238/400\n"
     ]
    },
    {
     "name": "stdout",
     "output_type": "stream",
     "text": [
      "42000/42000 [==============================] - 4s 105us/step - loss: 0.7042 - acc: 0.7716\n",
      "Epoch 239/400\n",
      "42000/42000 [==============================] - 4s 100us/step - loss: 0.7042 - acc: 0.7716\n",
      "Epoch 240/400\n",
      "42000/42000 [==============================] - 4s 99us/step - loss: 0.7042 - acc: 0.7716\n",
      "Epoch 241/400\n",
      "42000/42000 [==============================] - 4s 97us/step - loss: 0.7042 - acc: 0.7716\n",
      "Epoch 242/400\n",
      "42000/42000 [==============================] - 4s 98us/step - loss: 0.7042 - acc: 0.7716\n",
      "Epoch 243/400\n",
      "42000/42000 [==============================] - 4s 93us/step - loss: 0.7042 - acc: 0.7716\n",
      "Epoch 244/400\n",
      "42000/42000 [==============================] - 4s 93us/step - loss: 0.7042 - acc: 0.7716\n",
      "Epoch 245/400\n",
      "42000/42000 [==============================] - 4s 93us/step - loss: 0.7042 - acc: 0.7716\n",
      "Epoch 246/400\n",
      "42000/42000 [==============================] - 4s 92us/step - loss: 0.7042 - acc: 0.7716\n",
      "Epoch 247/400\n",
      "42000/42000 [==============================] - 4s 92us/step - loss: 0.7042 - acc: 0.7716\n",
      "Epoch 248/400\n",
      "42000/42000 [==============================] - 4s 92us/step - loss: 0.7042 - acc: 0.7716\n",
      "Epoch 249/400\n",
      "42000/42000 [==============================] - 4s 91us/step - loss: 0.7042 - acc: 0.7716\n",
      "Epoch 250/400\n",
      "42000/42000 [==============================] - 4s 93us/step - loss: 0.7042 - acc: 0.7716\n",
      "Epoch 251/400\n",
      "42000/42000 [==============================] - 4s 93us/step - loss: 0.7042 - acc: 0.7716\n",
      "Epoch 252/400\n",
      "42000/42000 [==============================] - 4s 92us/step - loss: 0.7042 - acc: 0.7716\n",
      "Epoch 253/400\n",
      "42000/42000 [==============================] - 4s 92us/step - loss: 0.7042 - acc: 0.7716\n",
      "Epoch 254/400\n",
      "42000/42000 [==============================] - 4s 92us/step - loss: 0.7042 - acc: 0.7716\n",
      "Epoch 255/400\n",
      "42000/42000 [==============================] - 4s 91us/step - loss: 0.7042 - acc: 0.7716\n",
      "Epoch 256/400\n",
      "42000/42000 [==============================] - 4s 98us/step - loss: 0.7042 - acc: 0.7716\n",
      "Epoch 257/400\n",
      "42000/42000 [==============================] - 4s 99us/step - loss: 0.7042 - acc: 0.7716\n",
      "Epoch 258/400\n",
      "42000/42000 [==============================] - 4s 93us/step - loss: 0.7042 - acc: 0.7716\n",
      "Epoch 259/400\n",
      "42000/42000 [==============================] - 4s 93us/step - loss: 0.7042 - acc: 0.7716\n",
      "Epoch 260/400\n",
      "42000/42000 [==============================] - 4s 93us/step - loss: 0.7042 - acc: 0.7716\n",
      "Epoch 261/400\n",
      "42000/42000 [==============================] - 4s 105us/step - loss: 0.7042 - acc: 0.7716\n",
      "Epoch 262/400\n",
      "42000/42000 [==============================] - 4s 99us/step - loss: 0.7042 - acc: 0.7716\n",
      "Epoch 263/400\n",
      "42000/42000 [==============================] - 4s 98us/step - loss: 0.7042 - acc: 0.7716\n",
      "Epoch 264/400\n",
      "42000/42000 [==============================] - 4s 98us/step - loss: 0.7042 - acc: 0.7716\n",
      "Epoch 265/400\n",
      "42000/42000 [==============================] - 4s 96us/step - loss: 0.7042 - acc: 0.7716\n",
      "Epoch 266/400\n",
      "42000/42000 [==============================] - 4s 96us/step - loss: 0.7042 - acc: 0.7716\n",
      "Epoch 267/400\n",
      "42000/42000 [==============================] - 4s 98us/step - loss: 0.7042 - acc: 0.7716\n",
      "Epoch 268/400\n",
      "42000/42000 [==============================] - 4s 95us/step - loss: 0.7042 - acc: 0.7716\n",
      "Epoch 269/400\n",
      "42000/42000 [==============================] - 4s 92us/step - loss: 0.7042 - acc: 0.7716\n",
      "Epoch 270/400\n",
      "42000/42000 [==============================] - 4s 92us/step - loss: 0.7042 - acc: 0.7716\n",
      "Epoch 271/400\n",
      "42000/42000 [==============================] - 4s 93us/step - loss: 0.7042 - acc: 0.7716\n",
      "Epoch 272/400\n",
      "42000/42000 [==============================] - 4s 93us/step - loss: 0.7042 - acc: 0.7716\n",
      "Epoch 273/400\n",
      "42000/42000 [==============================] - 4s 93us/step - loss: 0.7042 - acc: 0.7716\n",
      "Epoch 274/400\n",
      "42000/42000 [==============================] - 4s 105us/step - loss: 0.7042 - acc: 0.7716\n",
      "Epoch 275/400\n",
      "42000/42000 [==============================] - 4s 92us/step - loss: 0.7042 - acc: 0.7716\n",
      "Epoch 276/400\n",
      "42000/42000 [==============================] - 4s 91us/step - loss: 0.7042 - acc: 0.7716\n",
      "Epoch 277/400\n",
      "42000/42000 [==============================] - 4s 100us/step - loss: 0.7042 - acc: 0.7716\n",
      "Epoch 278/400\n",
      "42000/42000 [==============================] - 4s 92us/step - loss: 0.7042 - acc: 0.7716\n",
      "Epoch 279/400\n",
      "42000/42000 [==============================] - 4s 93us/step - loss: 0.7042 - acc: 0.7716\n",
      "Epoch 280/400\n",
      "42000/42000 [==============================] - 4s 95us/step - loss: 0.7042 - acc: 0.7716\n",
      "Epoch 281/400\n",
      "42000/42000 [==============================] - 4s 93us/step - loss: 0.7042 - acc: 0.7716\n",
      "Epoch 282/400\n",
      "42000/42000 [==============================] - 4s 91us/step - loss: 0.7042 - acc: 0.7716\n",
      "Epoch 283/400\n",
      "42000/42000 [==============================] - 4s 93us/step - loss: 0.7042 - acc: 0.7716\n",
      "Epoch 284/400\n",
      "42000/42000 [==============================] - 4s 93us/step - loss: 0.7042 - acc: 0.7716\n",
      "Epoch 285/400\n",
      "42000/42000 [==============================] - 4s 92us/step - loss: 0.7042 - acc: 0.7716\n",
      "Epoch 286/400\n",
      "42000/42000 [==============================] - 4s 91us/step - loss: 0.7042 - acc: 0.7716\n",
      "Epoch 287/400\n",
      "42000/42000 [==============================] - 4s 93us/step - loss: 0.7042 - acc: 0.7716\n",
      "Epoch 288/400\n",
      "42000/42000 [==============================] - 4s 92us/step - loss: 0.7042 - acc: 0.7716\n",
      "Epoch 289/400\n",
      "42000/42000 [==============================] - 4s 92us/step - loss: 0.7042 - acc: 0.7716\n",
      "Epoch 290/400\n",
      "42000/42000 [==============================] - 4s 93us/step - loss: 0.7042 - acc: 0.7716\n",
      "Epoch 291/400\n",
      "42000/42000 [==============================] - 4s 93us/step - loss: 0.7042 - acc: 0.7716\n",
      "Epoch 292/400\n",
      "42000/42000 [==============================] - 4s 92us/step - loss: 0.7042 - acc: 0.7716\n",
      "Epoch 293/400\n",
      "42000/42000 [==============================] - 4s 92us/step - loss: 0.7042 - acc: 0.7716\n",
      "Epoch 294/400\n",
      "42000/42000 [==============================] - 4s 92us/step - loss: 0.7042 - acc: 0.7716\n",
      "Epoch 295/400\n",
      "42000/42000 [==============================] - 4s 92us/step - loss: 0.7042 - acc: 0.7716\n",
      "Epoch 296/400\n",
      "42000/42000 [==============================] - 4s 91us/step - loss: 0.7042 - acc: 0.7716\n",
      "Epoch 297/400\n",
      "42000/42000 [==============================] - 4s 102us/step - loss: 0.7042 - acc: 0.7716\n",
      "Epoch 298/400\n",
      "42000/42000 [==============================] - 4s 103us/step - loss: 0.7042 - acc: 0.7716\n",
      "Epoch 299/400\n",
      "42000/42000 [==============================] - 4s 91us/step - loss: 0.7042 - acc: 0.7716\n",
      "Epoch 300/400\n",
      "42000/42000 [==============================] - 4s 92us/step - loss: 0.7042 - acc: 0.7716\n",
      "Epoch 301/400\n",
      "42000/42000 [==============================] - 4s 92us/step - loss: 0.7042 - acc: 0.7716\n",
      "Epoch 302/400\n",
      "42000/42000 [==============================] - 4s 97us/step - loss: 0.7042 - acc: 0.7716\n",
      "Epoch 303/400\n",
      "42000/42000 [==============================] - 4s 93us/step - loss: 0.7042 - acc: 0.7716\n",
      "Epoch 304/400\n",
      "42000/42000 [==============================] - 4s 96us/step - loss: 0.7042 - acc: 0.7716\n",
      "Epoch 305/400\n",
      "42000/42000 [==============================] - 4s 92us/step - loss: 0.7042 - acc: 0.7716\n",
      "Epoch 306/400\n",
      "42000/42000 [==============================] - 4s 96us/step - loss: 0.7042 - acc: 0.7716\n",
      "Epoch 307/400\n",
      "42000/42000 [==============================] - 4s 98us/step - loss: 0.7042 - acc: 0.7716\n",
      "Epoch 308/400\n",
      "42000/42000 [==============================] - 4s 98us/step - loss: 0.7042 - acc: 0.7716\n",
      "Epoch 309/400\n",
      "42000/42000 [==============================] - 4s 95us/step - loss: 0.7042 - acc: 0.7716\n",
      "Epoch 310/400\n",
      "42000/42000 [==============================] - 4s 94us/step - loss: 0.7042 - acc: 0.7716\n",
      "Epoch 311/400\n",
      "42000/42000 [==============================] - 4s 93us/step - loss: 0.7042 - acc: 0.7716\n",
      "Epoch 312/400\n",
      "42000/42000 [==============================] - 4s 92us/step - loss: 0.7042 - acc: 0.7716\n",
      "Epoch 313/400\n",
      "42000/42000 [==============================] - 4s 96us/step - loss: 0.7042 - acc: 0.7716\n",
      "Epoch 314/400\n",
      "42000/42000 [==============================] - 4s 101us/step - loss: 0.7042 - acc: 0.7716\n",
      "Epoch 315/400\n",
      "42000/42000 [==============================] - 4s 93us/step - loss: 0.7042 - acc: 0.7716\n",
      "Epoch 316/400\n",
      "42000/42000 [==============================] - 4s 97us/step - loss: 0.7042 - acc: 0.7716\n",
      "Epoch 317/400\n"
     ]
    },
    {
     "name": "stdout",
     "output_type": "stream",
     "text": [
      "42000/42000 [==============================] - 4s 91us/step - loss: 0.7042 - acc: 0.7716\n",
      "Epoch 318/400\n",
      "42000/42000 [==============================] - 4s 92us/step - loss: 0.7042 - acc: 0.7716\n",
      "Epoch 319/400\n",
      "42000/42000 [==============================] - 4s 93us/step - loss: 0.7042 - acc: 0.7716\n",
      "Epoch 320/400\n",
      "42000/42000 [==============================] - 4s 93us/step - loss: 0.7042 - acc: 0.7716\n",
      "Epoch 321/400\n",
      "42000/42000 [==============================] - 4s 94us/step - loss: 0.7042 - acc: 0.7716\n",
      "Epoch 322/400\n",
      "42000/42000 [==============================] - 4s 92us/step - loss: 0.7042 - acc: 0.7716\n",
      "Epoch 323/400\n",
      "42000/42000 [==============================] - 4s 91us/step - loss: 0.7042 - acc: 0.7716\n",
      "Epoch 324/400\n",
      "42000/42000 [==============================] - 4s 92us/step - loss: 0.7042 - acc: 0.7716\n",
      "Epoch 325/400\n",
      "42000/42000 [==============================] - 4s 91us/step - loss: 0.7042 - acc: 0.7716\n",
      "Epoch 326/400\n",
      "42000/42000 [==============================] - 4s 93us/step - loss: 0.7042 - acc: 0.7716\n",
      "Epoch 327/400\n",
      "42000/42000 [==============================] - 4s 92us/step - loss: 0.7042 - acc: 0.7716\n",
      "Epoch 328/400\n",
      "42000/42000 [==============================] - 4s 92us/step - loss: 0.7042 - acc: 0.7716\n",
      "Epoch 329/400\n",
      "42000/42000 [==============================] - 4s 92us/step - loss: 0.7042 - acc: 0.7716\n",
      "Epoch 330/400\n",
      "42000/42000 [==============================] - 4s 92us/step - loss: 0.7042 - acc: 0.7716\n",
      "Epoch 331/400\n",
      "42000/42000 [==============================] - 4s 92us/step - loss: 0.7042 - acc: 0.7716\n",
      "Epoch 332/400\n",
      "42000/42000 [==============================] - 4s 94us/step - loss: 0.7042 - acc: 0.7716\n",
      "Epoch 333/400\n",
      "42000/42000 [==============================] - 4s 104us/step - loss: 0.7042 - acc: 0.7716\n",
      "Epoch 334/400\n",
      "42000/42000 [==============================] - 4s 105us/step - loss: 0.7042 - acc: 0.7716\n",
      "Epoch 335/400\n",
      "42000/42000 [==============================] - 4s 96us/step - loss: 0.7042 - acc: 0.7716\n",
      "Epoch 336/400\n",
      "42000/42000 [==============================] - 4s 97us/step - loss: 0.7042 - acc: 0.7716\n",
      "Epoch 337/400\n",
      "42000/42000 [==============================] - 4s 95us/step - loss: 0.7042 - acc: 0.7716\n",
      "Epoch 338/400\n",
      "42000/42000 [==============================] - 4s 96us/step - loss: 0.7042 - acc: 0.7716\n",
      "Epoch 339/400\n",
      "42000/42000 [==============================] - 4s 96us/step - loss: 0.7042 - acc: 0.7716\n",
      "Epoch 340/400\n",
      "42000/42000 [==============================] - 4s 95us/step - loss: 0.7042 - acc: 0.7716\n",
      "Epoch 341/400\n",
      "42000/42000 [==============================] - 4s 95us/step - loss: 0.7042 - acc: 0.7716\n",
      "Epoch 342/400\n",
      "42000/42000 [==============================] - 4s 93us/step - loss: 0.7042 - acc: 0.7716\n",
      "Epoch 343/400\n",
      "42000/42000 [==============================] - 4s 92us/step - loss: 0.7042 - acc: 0.7716\n",
      "Epoch 344/400\n",
      "42000/42000 [==============================] - 4s 94us/step - loss: 0.7042 - acc: 0.7716\n",
      "Epoch 345/400\n",
      "42000/42000 [==============================] - 4s 94us/step - loss: 0.7042 - acc: 0.7716\n",
      "Epoch 346/400\n",
      "42000/42000 [==============================] - 4s 92us/step - loss: 0.7042 - acc: 0.7716\n",
      "Epoch 347/400\n",
      "42000/42000 [==============================] - 4s 94us/step - loss: 0.7042 - acc: 0.7716\n",
      "Epoch 348/400\n",
      "42000/42000 [==============================] - 4s 93us/step - loss: 0.7042 - acc: 0.7716\n",
      "Epoch 349/400\n",
      "42000/42000 [==============================] - 4s 92us/step - loss: 0.7042 - acc: 0.7716\n",
      "Epoch 350/400\n",
      "42000/42000 [==============================] - 4s 92us/step - loss: 0.7042 - acc: 0.7716\n",
      "Epoch 351/400\n",
      "42000/42000 [==============================] - 4s 92us/step - loss: 0.7042 - acc: 0.7716\n",
      "Epoch 352/400\n",
      "42000/42000 [==============================] - 4s 92us/step - loss: 0.7042 - acc: 0.7716\n",
      "Epoch 353/400\n",
      "42000/42000 [==============================] - 4s 92us/step - loss: 0.7042 - acc: 0.7716\n",
      "Epoch 354/400\n",
      "42000/42000 [==============================] - 4s 101us/step - loss: 0.7042 - acc: 0.7716\n",
      "Epoch 355/400\n",
      "42000/42000 [==============================] - 5s 129us/step - loss: 0.7042 - acc: 0.7716\n",
      "Epoch 356/400\n",
      "42000/42000 [==============================] - 6s 132us/step - loss: 0.7042 - acc: 0.7716\n",
      "Epoch 357/400\n",
      "42000/42000 [==============================] - 4s 104us/step - loss: 0.7042 - acc: 0.7716\n",
      "Epoch 358/400\n",
      "42000/42000 [==============================] - 4s 106us/step - loss: 0.7042 - acc: 0.7716\n",
      "Epoch 359/400\n",
      "42000/42000 [==============================] - 4s 98us/step - loss: 0.7042 - acc: 0.7716\n",
      "Epoch 360/400\n",
      "42000/42000 [==============================] - 4s 98us/step - loss: 0.7042 - acc: 0.7716\n",
      "Epoch 361/400\n",
      "42000/42000 [==============================] - 4s 93us/step - loss: 0.7042 - acc: 0.7716\n",
      "Epoch 362/400\n",
      "42000/42000 [==============================] - 4s 91us/step - loss: 0.7042 - acc: 0.7716\n",
      "Epoch 363/400\n",
      "42000/42000 [==============================] - 4s 92us/step - loss: 0.7042 - acc: 0.7716\n",
      "Epoch 364/400\n",
      "42000/42000 [==============================] - 4s 92us/step - loss: 0.7042 - acc: 0.7716\n",
      "Epoch 365/400\n",
      "42000/42000 [==============================] - 4s 93us/step - loss: 0.7042 - acc: 0.7716\n",
      "Epoch 366/400\n",
      "42000/42000 [==============================] - 4s 92us/step - loss: 0.7042 - acc: 0.7716\n",
      "Epoch 367/400\n",
      "42000/42000 [==============================] - 4s 92us/step - loss: 0.7042 - acc: 0.7716\n",
      "Epoch 368/400\n",
      "42000/42000 [==============================] - 4s 92us/step - loss: 0.7042 - acc: 0.7716\n",
      "Epoch 369/400\n",
      "42000/42000 [==============================] - 4s 99us/step - loss: 0.7042 - acc: 0.7716\n",
      "Epoch 370/400\n",
      "42000/42000 [==============================] - 4s 92us/step - loss: 0.7042 - acc: 0.7716\n",
      "Epoch 371/400\n",
      "42000/42000 [==============================] - 4s 92us/step - loss: 0.7042 - acc: 0.7716\n",
      "Epoch 372/400\n",
      "42000/42000 [==============================] - 4s 92us/step - loss: 0.7042 - acc: 0.7716\n",
      "Epoch 373/400\n",
      "42000/42000 [==============================] - 4s 92us/step - loss: 0.7042 - acc: 0.7716\n",
      "Epoch 374/400\n",
      "42000/42000 [==============================] - 4s 91us/step - loss: 0.7042 - acc: 0.7716\n",
      "Epoch 375/400\n",
      "42000/42000 [==============================] - 4s 92us/step - loss: 0.7042 - acc: 0.7716\n",
      "Epoch 376/400\n",
      "42000/42000 [==============================] - 4s 97us/step - loss: 0.7042 - acc: 0.7716\n",
      "Epoch 377/400\n",
      "42000/42000 [==============================] - 4s 92us/step - loss: 0.7042 - acc: 0.7716\n",
      "Epoch 378/400\n",
      "42000/42000 [==============================] - 4s 95us/step - loss: 0.7042 - acc: 0.7716\n",
      "Epoch 379/400\n",
      "42000/42000 [==============================] - 4s 97us/step - loss: 0.7042 - acc: 0.7716\n",
      "Epoch 380/400\n",
      "42000/42000 [==============================] - 4s 96us/step - loss: 0.7042 - acc: 0.7716\n",
      "Epoch 381/400\n",
      "42000/42000 [==============================] - 4s 107us/step - loss: 0.7042 - acc: 0.7716\n",
      "Epoch 382/400\n",
      "42000/42000 [==============================] - 4s 95us/step - loss: 0.7042 - acc: 0.7716\n",
      "Epoch 383/400\n",
      "42000/42000 [==============================] - 4s 92us/step - loss: 0.7042 - acc: 0.7716\n",
      "Epoch 384/400\n",
      "42000/42000 [==============================] - 4s 92us/step - loss: 0.7042 - acc: 0.7716\n",
      "Epoch 385/400\n",
      "42000/42000 [==============================] - 4s 92us/step - loss: 0.7042 - acc: 0.7716\n",
      "Epoch 386/400\n",
      "42000/42000 [==============================] - 4s 93us/step - loss: 0.7042 - acc: 0.7716\n",
      "Epoch 387/400\n",
      "42000/42000 [==============================] - 4s 92us/step - loss: 0.7042 - acc: 0.7716\n",
      "Epoch 388/400\n",
      "42000/42000 [==============================] - 4s 91us/step - loss: 0.7042 - acc: 0.7716\n",
      "Epoch 389/400\n",
      "42000/42000 [==============================] - 4s 92us/step - loss: 0.7042 - acc: 0.7716\n",
      "Epoch 390/400\n",
      "42000/42000 [==============================] - 4s 92us/step - loss: 0.7042 - acc: 0.7716\n",
      "Epoch 391/400\n",
      "42000/42000 [==============================] - 4s 95us/step - loss: 0.7042 - acc: 0.7716\n",
      "Epoch 392/400\n",
      "42000/42000 [==============================] - 5s 113us/step - loss: 0.7042 - acc: 0.7716\n",
      "Epoch 393/400\n",
      "42000/42000 [==============================] - 4s 99us/step - loss: 0.7042 - acc: 0.7716\n",
      "Epoch 394/400\n",
      "42000/42000 [==============================] - 4s 92us/step - loss: 0.7042 - acc: 0.7716\n",
      "Epoch 395/400\n",
      "42000/42000 [==============================] - 4s 91us/step - loss: 0.7042 - acc: 0.7716\n",
      "Epoch 396/400\n"
     ]
    },
    {
     "name": "stdout",
     "output_type": "stream",
     "text": [
      "42000/42000 [==============================] - 4s 92us/step - loss: 0.7042 - acc: 0.7716\n",
      "Epoch 397/400\n",
      "42000/42000 [==============================] - 4s 93us/step - loss: 0.7042 - acc: 0.7716\n",
      "Epoch 398/400\n",
      "42000/42000 [==============================] - 4s 92us/step - loss: 0.7042 - acc: 0.7716\n",
      "Epoch 399/400\n",
      "42000/42000 [==============================] - 4s 92us/step - loss: 0.7042 - acc: 0.7716\n",
      "Epoch 400/400\n",
      "42000/42000 [==============================] - 4s 92us/step - loss: 0.7042 - acc: 0.7716\n"
     ]
    }
   ],
   "source": [
    "history = model.fit(X_train, y_1h, epochs=400, batch_size=2) #batch size bhaneko ek choti ma kati ota images line so that ram memory dherai nakhaos"
   ]
  },
  {
   "cell_type": "code",
   "execution_count": 25,
   "metadata": {},
   "outputs": [],
   "source": [
    "def vis(h):\n",
    "    loss = h.history[\"loss\"]\n",
    "    plt.plot(loss)\n",
    "    plt.grid()"
   ]
  },
  {
   "cell_type": "code",
   "execution_count": 44,
   "metadata": {},
   "outputs": [],
   "source": [
    "def visualize_accuracy(a):\n",
    "    accuracy = a.history[\"acc\"]\n",
    "    plt.plot(accuracy)\n",
    "    plt.grid()\n",
    "    plt.xlabel(\"Epoch\")\n",
    "    plt.ylabel(\"Accuracy\")"
   ]
  },
  {
   "cell_type": "code",
   "execution_count": 26,
   "metadata": {
    "scrolled": true
   },
   "outputs": [
    {
     "data": {
      "image/png": "[encoded data removed]",
      "text/plain": [
       "<matplotlib.figure.Figure at 0x7fcd9c4fe198>"
      ]
     },
     "metadata": {},
     "output_type": "display_data"
    }
   ],
   "source": [
    "vis(history)"
   ]
  },
  {
   "cell_type": "code",
   "execution_count": 48,
   "metadata": {},
   "outputs": [
    {
     "data": {
      "image/png": "[encoded data removed]",
      "text/plain": [
       "<matplotlib.figure.Figure at 0x7fcd9c1ac710>"
      ]
     },
     "metadata": {},
     "output_type": "display_data"
    }
   ],
   "source": [
    "visualize_accuracy(history)"
   ]
  },
  {
   "cell_type": "code",
   "execution_count": 27,
   "metadata": {},
   "outputs": [],
   "source": [
    "predictions = model.predict(X_test)"
   ]
  },
  {
   "cell_type": "code",
   "execution_count": 28,
   "metadata": {},
   "outputs": [
    {
     "data": {
      "text/plain": [
       "(28000, 784)"
      ]
     },
     "execution_count": 28,
     "metadata": {},
     "output_type": "execute_result"
    }
   ],
   "source": [
    "X_test.shape"
   ]
  },
  {
   "cell_type": "code",
   "execution_count": 29,
   "metadata": {},
   "outputs": [
    {
     "data": {
      "text/plain": [
       "(42000, 784)"
      ]
     },
     "execution_count": 29,
     "metadata": {},
     "output_type": "execute_result"
    }
   ],
   "source": [
    "X_train.shape"
   ]
  },
  {
   "cell_type": "code",
   "execution_count": 30,
   "metadata": {},
   "outputs": [],
   "source": [
    "test_X_image = X_test.reshape(-1, 28,28)"
   ]
  },
  {
   "cell_type": "code",
   "execution_count": 40,
   "metadata": {},
   "outputs": [
    {
     "name": "stdout",
     "output_type": "stream",
     "text": [
      "[0 1 2 3 4 5 6 7 8 9]\n",
      "[0.05 0.08 0.07 0.1  0.09 0.1  0.06 0.09 0.18 0.18]\n"
     ]
    },
    {
     "data": {
      "text/plain": [
       "<matplotlib.image.AxesImage at 0x7fcd9c17f278>"
      ]
     },
     "execution_count": 40,
     "metadata": {},
     "output_type": "execute_result"
    },
    {
     "data": {
      "image/png": "[encoded data removed]",
      "text/plain": [
       "<matplotlib.figure.Figure at 0x7fcd9c4ef0f0>"
      ]
     },
     "metadata": {},
     "output_type": "display_data"
    }
   ],
   "source": [
    "random_index = np.random.randint(0, len(X_test))\n",
    "print(np.arange(10))\n",
    "print(np.round(predictions[random_index], decimals = 2))\n",
    "plt.imshow(test_X_image[random_index], cmap = \"gray\")"
   ]
  },
  {
   "cell_type": "code",
   "execution_count": null,
   "metadata": {},
   "outputs": [],
   "source": []
  },
  {
   "cell_type": "code",
   "execution_count": null,
   "metadata": {},
   "outputs": [],
   "source": []
  }
 ],
 "metadata": {
  "kernelspec": {
   "display_name": "Python 3",
   "language": "python",
   "name": "python3"
  },
  "language_info": {
   "codemirror_mode": {
    "name": "ipython",
    "version": 3
   },
   "file_extension": ".py",
   "mimetype": "text/x-python",
   "name": "python",
   "nbconvert_exporter": "python",
   "pygments_lexer": "ipython3",
   "version": "3.6.4"
  }
 },
 "nbformat": 4,
 "nbformat_minor": 2
}
